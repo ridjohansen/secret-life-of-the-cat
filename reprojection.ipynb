{
 "metadata": {
  "name": "reprojection"
 },
 "nbformat": 3,
 "nbformat_minor": 0,
 "worksheets": [
  {
   "cells": [
    {
     "cell_type": "code",
     "collapsed": false,
     "input": [
      "import json"
     ],
     "language": "python",
     "metadata": {},
     "outputs": [],
     "prompt_number": 1
    },
    {
     "cell_type": "code",
     "collapsed": false,
     "input": [
      "# Load cat data\n",
      "db = json.load(open('cat-position-data.json'))"
     ],
     "language": "python",
     "metadata": {},
     "outputs": [],
     "prompt_number": 2
    },
    {
     "cell_type": "code",
     "collapsed": false,
     "input": [
      "# Print scale factors of map images to get to 1 pixel per metre\n",
      "# This is used to resize each layer in road.xcf which is 1PPM.\n",
      "for cat in db['cats']:\n",
      "    print('{0}: {1:.2f}%'.format(cat['name'], 100.0/cat['pixelsPerMeter']))"
     ],
     "language": "python",
     "metadata": {},
     "outputs": [
      {
       "output_type": "stream",
       "stream": "stdout",
       "text": [
        "Ginger: 67.96%\n",
        "Chip: 33.98%\n",
        "Sooty: 22.65%\n",
        "Orlando: 67.96%\n",
        "Hermie: 47.97%\n",
        "Phoebe: 33.98%\n",
        "Deebee: 33.98%\n",
        "Kato: 33.98%\n",
        "Coco: 50.97%\n",
        "Rosie: 25.48%\n"
       ]
      }
     ],
     "prompt_number": 15
    },
    {
     "cell_type": "code",
     "collapsed": false,
     "input": [
      "from PIL import Image"
     ],
     "language": "python",
     "metadata": {},
     "outputs": [],
     "prompt_number": 17
    },
    {
     "cell_type": "code",
     "collapsed": false,
     "input": [
      "# Get the size of each map image in pixels and hence pixels in road.tiff\n",
      "image_sizes = {}\n",
      "image_scales = {}\n",
      "for cat in db['cats']:\n",
      "    im = Image.open(cat['name'].lower() + '.jpg')\n",
      "    w, h = im.size\n",
      "    scale = 1.0/cat['pixelsPerMeter']\n",
      "    w = int(w*scale); h = int(h * scale)\n",
      "    print('{0}: {1}x{2}'.format(cat['name'], w, h))\n",
      "    image_sizes[cat['name'].lower()] = (w,h)\n",
      "    image_scales[cat['name'].lower()] = scale"
     ],
     "language": "python",
     "metadata": {},
     "outputs": [
      {
       "output_type": "stream",
       "stream": "stdout",
       "text": [
        "Ginger: 407x407\n",
        "Chip: 203x203\n",
        "Sooty: 135x135\n",
        "Orlando: 407x407\n",
        "Hermie: 287x287\n",
        "Phoebe: 203x203\n",
        "Deebee: 203x203\n",
        "Kato: 203x203\n",
        "Coco: 305x305\n",
        "Rosie: 152x152\n"
       ]
      }
     ],
     "prompt_number": 78
    },
    {
     "cell_type": "code",
     "collapsed": false,
     "input": [
      "# This is a list of the X, Y positions of the top-left (i.e. minimum) pixel co-ord of each image in road.xcf\n",
      "image_locs = {\n",
      "  'chip': (2159, 2034),\n",
      "  'coco': (1636, 2007),\n",
      "  'deebee': (1807, 2038),\n",
      "  'ginger': (1294, 2174),\n",
      "  'hermie': (1619, 1880),\n",
      "  'kato': (1948, 2348),\n",
      "  'phoebe': (1948, 2348),\n",
      "  'orlando': (0, 0), # not geo-referenced\n",
      "  'rosie': (1870, 2165),\n",
      "  'sooty': (1481, 2051),\n",
      "}"
     ],
     "language": "python",
     "metadata": {},
     "outputs": [],
     "prompt_number": 31
    },
    {
     "cell_type": "code",
     "collapsed": false,
     "input": [
      "from osgeo import gdal"
     ],
     "language": "python",
     "metadata": {},
     "outputs": [],
     "prompt_number": 33
    },
    {
     "cell_type": "code",
     "collapsed": false,
     "input": [
      "# Open road map and get the geo transform\n",
      "map_ds = gdal.Open('road.tiff')\n",
      "ox, xs, _, oy, _, ys = map_ds.GetGeoTransform()\n",
      "def pixel_to_grid(x, y):\n",
      "    return (ox + xs * x, oy + ys * y)"
     ],
     "language": "python",
     "metadata": {},
     "outputs": [],
     "prompt_number": 39
    },
    {
     "cell_type": "code",
     "collapsed": false,
     "input": [
      "pixel_to_grid(0,0)"
     ],
     "language": "python",
     "metadata": {},
     "outputs": [
      {
       "output_type": "pyout",
       "prompt_number": 40,
       "text": [
        "(501000.0, 146000.0)"
       ]
      }
     ],
     "prompt_number": 40
    },
    {
     "cell_type": "code",
     "collapsed": false,
     "input": [
      "pixel_to_grid(2159, 2034)"
     ],
     "language": "python",
     "metadata": {},
     "outputs": [
      {
       "output_type": "pyout",
       "prompt_number": 41,
       "text": [
        "(503159.0, 143966.0)"
       ]
      }
     ],
     "prompt_number": 41
    },
    {
     "cell_type": "code",
     "collapsed": false,
     "input": [
      "from osgeo import osr"
     ],
     "language": "python",
     "metadata": {},
     "outputs": [],
     "prompt_number": 54
    },
    {
     "cell_type": "code",
     "collapsed": false,
     "input": [
      "# Setup an OS grid -> WGS 84 projection\n",
      "bng = osr.SpatialReference()\n",
      "bng.ImportFromEPSG(27700)\n",
      "wgs84 = osr.SpatialReference()\n",
      "wgs84.ImportFromEPSG(4326)"
     ],
     "language": "python",
     "metadata": {},
     "outputs": [
      {
       "output_type": "pyout",
       "prompt_number": 72,
       "text": [
        "0"
       ]
      }
     ],
     "prompt_number": 72
    },
    {
     "cell_type": "code",
     "collapsed": false,
     "input": [
      "bng2wgs84 = osr.CoordinateTransformation(bng, wgs84)"
     ],
     "language": "python",
     "metadata": {},
     "outputs": [],
     "prompt_number": 73
    },
    {
     "cell_type": "code",
     "collapsed": false,
     "input": [
      "# Project the points for each cat into os grid and thence WGS84\n",
      "for cat in db['cats']:\n",
      "    name = cat['name'].lower()\n",
      "    dx, dy = image_locs[name]\n",
      "    \n",
      "    # sckip unlocated images\n",
      "    if dx == 0 and dy == 0:\n",
      "        continue\n",
      "    \n",
      "    scale = image_scales[name]\n",
      "    \n",
      "    coords = []\n",
      "    for pt in cat['points']:\n",
      "        if not 'projected' in pt:\n",
      "            continue\n",
      "        x, y = tuple(float(v) for v in pt['projected'].split(','))\n",
      "        x *= scale; y *= scale\n",
      "        gx, gy = pixel_to_grid(x+dx, y+dy)\n",
      "        \n",
      "        # To WGS84\n",
      "        x, y, _ = bng2wgs84.TransformPoint(gx, gy)\n",
      "        coords.append((x, y))\n",
      "\n",
      "    geometry = { 'type': 'LineString', 'coordinates': coords }\n",
      "    feature = { 'type': 'Feature', 'properties': cat, 'geometry': geometry }\n",
      "    json.dump(feature, open(name + '.geojson', 'w'))\n"
     ],
     "language": "python",
     "metadata": {},
     "outputs": [],
     "prompt_number": 86
    },
    {
     "cell_type": "code",
     "collapsed": false,
     "input": [],
     "language": "python",
     "metadata": {},
     "outputs": []
    }
   ],
   "metadata": {}
  }
 ]
}